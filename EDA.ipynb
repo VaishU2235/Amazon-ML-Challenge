{
 "cells": [
  {
   "cell_type": "code",
   "execution_count": 3,
   "metadata": {},
   "outputs": [],
   "source": [
    "import pandas as pd\n",
    "import seaborn as sns\n",
    "import numpy as np"
   ]
  },
  {
   "cell_type": "code",
   "execution_count": 1,
   "metadata": {},
   "outputs": [
    {
     "name": "stdout",
     "output_type": "stream",
     "text": [
      "Pickle successfully created in datasets folder\n"
     ]
    }
   ],
   "source": [
    "!python sample.py 0.1\n",
    "#The argument decides how much propotion of whole data you want in random sample"
   ]
  },
  {
   "cell_type": "code",
   "execution_count": 4,
   "metadata": {},
   "outputs": [],
   "source": [
    "df=pd.read_pickle(\"../dataset/sample-train.pkl\")"
   ]
  },
  {
   "cell_type": "code",
   "execution_count": 16,
   "metadata": {},
   "outputs": [
    {
     "data": {
      "text/plain": [
       "Index(['TITLE', 'DESCRIPTION', 'BULLET_POINTS', 'BRAND', 'BROWSE_NODE_ID'], dtype='object')"
      ]
     },
     "execution_count": 16,
     "metadata": {},
     "output_type": "execute_result"
    }
   ],
   "source": [
    "df.columns"
   ]
  },
  {
   "cell_type": "code",
   "execution_count": 23,
   "metadata": {},
   "outputs": [
    {
     "data": {
      "text/html": [
       "<div>\n",
       "<style scoped>\n",
       "    .dataframe tbody tr th:only-of-type {\n",
       "        vertical-align: middle;\n",
       "    }\n",
       "\n",
       "    .dataframe tbody tr th {\n",
       "        vertical-align: top;\n",
       "    }\n",
       "\n",
       "    .dataframe thead th {\n",
       "        text-align: right;\n",
       "    }\n",
       "</style>\n",
       "<table border=\"1\" class=\"dataframe\">\n",
       "  <thead>\n",
       "    <tr style=\"text-align: right;\">\n",
       "      <th></th>\n",
       "      <th>TITLE</th>\n",
       "      <th>DESCRIPTION</th>\n",
       "      <th>BULLET_POINTS</th>\n",
       "      <th>BRAND</th>\n",
       "      <th>BROWSE_NODE_ID</th>\n",
       "    </tr>\n",
       "  </thead>\n",
       "  <tbody>\n",
       "    <tr>\n",
       "      <th>0</th>\n",
       "      <td>InterDesign 14 by 9 by 5-Inch Basic Basket, Me...</td>\n",
       "      <td>Plastic basket with chrome handle. You can sto...</td>\n",
       "      <td>[Made of extra durable translucent plastic,Chr...</td>\n",
       "      <td>InterDesign</td>\n",
       "      <td>19</td>\n",
       "    </tr>\n",
       "    <tr>\n",
       "      <th>1</th>\n",
       "      <td>Sally Hansen Vitamin E Nail and Cuticle Oil, 1...</td>\n",
       "      <td>NaN</td>\n",
       "      <td>[Absorbs quickly into nails and cuticles to de...</td>\n",
       "      <td>Sally Hansen</td>\n",
       "      <td>46</td>\n",
       "    </tr>\n",
       "    <tr>\n",
       "      <th>2</th>\n",
       "      <td>Bohumil Hrabal</td>\n",
       "      <td>NaN</td>\n",
       "      <td>NaN</td>\n",
       "      <td>NaN</td>\n",
       "      <td>4</td>\n",
       "    </tr>\n",
       "    <tr>\n",
       "      <th>3</th>\n",
       "      <td>ACDelco 45A0090 Professional Inner Steering Ti...</td>\n",
       "      <td>Inner Tie Rod End</td>\n",
       "      <td>[Superb strength for durability,Consistent tor...</td>\n",
       "      <td>ACDelco</td>\n",
       "      <td>56</td>\n",
       "    </tr>\n",
       "    <tr>\n",
       "      <th>4</th>\n",
       "      <td>Fiskars 46 Inch Steel D-handle Digging Shovel ...</td>\n",
       "      <td>Product Description Fiskars steel D-handle dig...</td>\n",
       "      <td>[Ideal for digging in tough soil,Large D-handl...</td>\n",
       "      <td>Fiskars</td>\n",
       "      <td>60</td>\n",
       "    </tr>\n",
       "  </tbody>\n",
       "</table>\n",
       "</div>"
      ],
      "text/plain": [
       "                                               TITLE  \\\n",
       "0  InterDesign 14 by 9 by 5-Inch Basic Basket, Me...   \n",
       "1  Sally Hansen Vitamin E Nail and Cuticle Oil, 1...   \n",
       "2                                     Bohumil Hrabal   \n",
       "3  ACDelco 45A0090 Professional Inner Steering Ti...   \n",
       "4  Fiskars 46 Inch Steel D-handle Digging Shovel ...   \n",
       "\n",
       "                                         DESCRIPTION  \\\n",
       "0  Plastic basket with chrome handle. You can sto...   \n",
       "1                                                NaN   \n",
       "2                                                NaN   \n",
       "3                                  Inner Tie Rod End   \n",
       "4  Product Description Fiskars steel D-handle dig...   \n",
       "\n",
       "                                       BULLET_POINTS         BRAND  \\\n",
       "0  [Made of extra durable translucent plastic,Chr...   InterDesign   \n",
       "1  [Absorbs quickly into nails and cuticles to de...  Sally Hansen   \n",
       "2                                                NaN           NaN   \n",
       "3  [Superb strength for durability,Consistent tor...       ACDelco   \n",
       "4  [Ideal for digging in tough soil,Large D-handl...       Fiskars   \n",
       "\n",
       "   BROWSE_NODE_ID  \n",
       "0              19  \n",
       "1              46  \n",
       "2               4  \n",
       "3              56  \n",
       "4              60  "
      ]
     },
     "execution_count": 23,
     "metadata": {},
     "output_type": "execute_result"
    }
   ],
   "source": [
    "df.head()"
   ]
  },
  {
   "cell_type": "markdown",
   "metadata": {},
   "source": [
    "# Exploring most repeated value count\n",
    "\n",
    "I think it is mobile cover or tampered glass"
   ]
  },
  {
   "cell_type": "code",
   "execution_count": 19,
   "metadata": {},
   "outputs": [
    {
     "name": "stdout",
     "output_type": "stream",
     "text": [
      "205       Sun Mobisys Printed Back Cover for Samsung Gal...\n",
      "228       Fasheen Designer Soft Case Mobile Back Cover f...\n",
      "233       TARKAN Heavy Duty Shockproof Armor Kickstand P...\n",
      "260       iPaky 360 Samsung Galaxy J7 2016 Full Protecti...\n",
      "261       SDO™ 360 Degree Protection Front and Back Slim...\n",
      "                                ...                        \n",
      "290823    FancyArt Cases & Covers GKK for Realme 3 PC 36...\n",
      "290840    Mapple S Alphabet/S Letter Printed Mobile Back...\n",
      "290841    Silence Printed Colorful Desi boy, Smoker, Smo...\n",
      "290843    Frazil *3-in-1 Shockproof* Dual Layer Slim Fit...\n",
      "290850    ZUBY (Combo Offer Two) Hard Plastic [for Girls...\n",
      "Name: TITLE, Length: 21608, dtype: object\n"
     ]
    }
   ],
   "source": [
    "print(df[df['BROWSE_NODE_ID']==1045].TITLE)"
   ]
  },
  {
   "cell_type": "code",
   "execution_count": 18,
   "metadata": {},
   "outputs": [
    {
     "name": "stdout",
     "output_type": "stream",
     "text": [
      "205       [Full Protection from Shock, Drop, Scratch, Di...\n",
      "228       [SLEEK DESIGN : This Fasheen's Ultra Thin, Sof...\n",
      "233       [Tarkan Heavy Duty Armored Protective Case,Met...\n",
      "260       [Provides Excellent protection from Scratches,...\n",
      "261       [Exclusively Designed for Oppo F1S,Ultra-thin ...\n",
      "                                ...                        \n",
      "290823    [3D 360 DEGREE PROTECTION: This Slim, Light & ...\n",
      "290840    [Designer/Quotation/Slogan back cover case. Be...\n",
      "290841    [PREMIUM PRINTED CASE COVER: Silence 3D mobile...\n",
      "290843    [✔ For Xiaomi Mi Redmi 4A - Please Check Befor...\n",
      "290850    [Designer cover case. Beautiful and Tough. Use...\n",
      "Name: BULLET_POINTS, Length: 21608, dtype: object\n"
     ]
    }
   ],
   "source": [
    "print(df[df['BROWSE_NODE_ID']==1045].BULLET_POINTS)"
   ]
  },
  {
   "cell_type": "code",
   "execution_count": 22,
   "metadata": {},
   "outputs": [
    {
     "name": "stdout",
     "output_type": "stream",
     "text": [
      "2                                                       NaN\n",
      "7         [Points won't snap under normal pressure; mois...\n",
      "14                                                      NaN\n",
      "15                                                      NaN\n",
      "16                                                      NaN\n",
      "                                ...                        \n",
      "290150                                                  NaN\n",
      "290152                                                  NaN\n",
      "290269    [DLLL 1x Universal Clear Lens 10 Red LED Brake...\n",
      "290525                                                  NaN\n",
      "290568    [Item Length: 5cm, Item Width: 5cm, Item Weigh...\n",
      "Name: BULLET_POINTS, Length: 3476, dtype: object\n"
     ]
    }
   ],
   "source": [
    "print(df[df['BROWSE_NODE_ID']==4].BULLET_POINTS)"
   ]
  },
  {
   "cell_type": "code",
   "execution_count": 24,
   "metadata": {},
   "outputs": [
    {
     "data": {
      "text/plain": [
       "1045       21608\n",
       "5           7097\n",
       "1251        5187\n",
       "1052        4631\n",
       "4           3476\n",
       "           ...  \n",
       "117130         1\n",
       "4467           1\n",
       "1727640        1\n",
       "43324          1\n",
       "54695          1\n",
       "Name: BROWSE_NODE_ID, Length: 7525, dtype: int64"
      ]
     },
     "execution_count": 24,
     "metadata": {},
     "output_type": "execute_result"
    }
   ],
   "source": [
    "df.BROWSE_NODE_ID.value_counts()"
   ]
  },
  {
   "cell_type": "code",
   "execution_count": null,
   "metadata": {},
   "outputs": [],
   "source": []
  }
 ],
 "metadata": {
  "kernelspec": {
   "display_name": "Python 3",
   "language": "python",
   "name": "python3"
  },
  "language_info": {
   "codemirror_mode": {
    "name": "ipython",
    "version": 3
   },
   "file_extension": ".py",
   "mimetype": "text/x-python",
   "name": "python",
   "nbconvert_exporter": "python",
   "pygments_lexer": "ipython3",
   "version": "3.8.5"
  }
 },
 "nbformat": 4,
 "nbformat_minor": 4
}
