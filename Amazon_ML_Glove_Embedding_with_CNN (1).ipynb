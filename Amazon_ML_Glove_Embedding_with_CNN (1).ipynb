{
  "nbformat": 4,
  "nbformat_minor": 0,
  "metadata": {
    "colab": {
      "name": "Amazon_ML_Glove_Embedding_with_CNN.ipynb",
      "provenance": []
    },
    "kernelspec": {
      "name": "python3",
      "display_name": "Python 3"
    },
    "language_info": {
      "name": "python"
    }
  },
  "cells": [
    {
      "cell_type": "code",
      "metadata": {
        "colab": {
          "base_uri": "https://localhost:8080/"
        },
        "id": "LyLJk3IV7e39",
        "outputId": "baec1976-ecdf-47e3-f70e-a92b2621cc97"
      },
      "source": [
        "import numpy as np\n",
        "import csv\n",
        "import pandas as pd\n",
        "import tensorflow as tf\n",
        "from tensorflow.keras.preprocessing import text, sequence\n",
        "from tensorflow.keras.models import Sequential\n",
        "from tensorflow.keras.layers import Dense, Dropout, Activation\n",
        "from tensorflow.keras.layers import Embedding\n",
        "from tensorflow.keras.layers import Conv1D, GlobalMaxPooling1D, MaxPooling1D\n",
        "from sklearn.model_selection import train_test_split\n",
        "print(tf.__version__)"
      ],
      "execution_count": 1,
      "outputs": [
        {
          "output_type": "stream",
          "text": [
            "2.5.0\n"
          ],
          "name": "stdout"
        }
      ]
    },
    {
      "cell_type": "code",
      "metadata": {
        "colab": {
          "base_uri": "https://localhost:8080/"
        },
        "id": "MfQJxQLb76jp",
        "outputId": "f5ed7975-9716-4228-bb8f-b2e67676cd7c"
      },
      "source": [
        "!wget \"https://s3-ap-southeast-1.amazonaws.com/he-public-data/dataset52a7b21.zip\" "
      ],
      "execution_count": 2,
      "outputs": [
        {
          "output_type": "stream",
          "text": [
            "--2021-07-30 18:35:25--  https://s3-ap-southeast-1.amazonaws.com/he-public-data/dataset52a7b21.zip\n",
            "Resolving s3-ap-southeast-1.amazonaws.com (s3-ap-southeast-1.amazonaws.com)... 52.219.124.78\n",
            "Connecting to s3-ap-southeast-1.amazonaws.com (s3-ap-southeast-1.amazonaws.com)|52.219.124.78|:443... connected.\n",
            "HTTP request sent, awaiting response... 200 OK\n",
            "Length: 1061576029 (1012M) [binary/octet-stream]\n",
            "Saving to: ‘dataset52a7b21.zip’\n",
            "\n",
            "dataset52a7b21.zip  100%[===================>]   1012M  12.7MB/s    in 84s     \n",
            "\n",
            "2021-07-30 18:36:50 (12.1 MB/s) - ‘dataset52a7b21.zip’ saved [1061576029/1061576029]\n",
            "\n"
          ],
          "name": "stdout"
        }
      ]
    },
    {
      "cell_type": "code",
      "metadata": {
        "colab": {
          "base_uri": "https://localhost:8080/"
        },
        "id": "9uVAJljo9zW6",
        "outputId": "36e14cd1-7ceb-43ee-b4f2-b9dc04ad220d"
      },
      "source": [
        "!unzip /content/dataset52a7b21.zip"
      ],
      "execution_count": 3,
      "outputs": [
        {
          "output_type": "stream",
          "text": [
            "Archive:  /content/dataset52a7b21.zip\n",
            "   creating: dataset/\n",
            "  inflating: dataset/train.csv       \n",
            "  inflating: dataset/sample_submission.csv  \n",
            "  inflating: dataset/test.csv        \n",
            "  inflating: dataset/.~lock.train.csv#  \n"
          ],
          "name": "stdout"
        }
      ]
    },
    {
      "cell_type": "code",
      "metadata": {
        "id": "64S_1Iyw-FQu"
      },
      "source": [
        "train_df=pd.read_csv('dataset/train.csv',escapechar = \"\\\\\",quoting = csv.QUOTE_NONE)"
      ],
      "execution_count": 4,
      "outputs": []
    },
    {
      "cell_type": "code",
      "metadata": {
        "id": "GpGbsCIc8SgA"
      },
      "source": [
        "x = train_df['TITLE']"
      ],
      "execution_count": 5,
      "outputs": []
    },
    {
      "cell_type": "code",
      "metadata": {
        "colab": {
          "base_uri": "https://localhost:8080/",
          "height": 35
        },
        "id": "jse2kbrO_2nq",
        "outputId": "d2238dd9-572e-4a64-f307-ae47d3a8d45a"
      },
      "source": [
        "x[1]#type(x[1])"
      ],
      "execution_count": 6,
      "outputs": [
        {
          "output_type": "execute_result",
          "data": {
            "application/vnd.google.colaboratory.intrinsic+json": {
              "type": "string"
            },
            "text/plain": [
              "'The New Yorker NYHM014 Refrigerator Magnet, 2 x 3.5'"
            ]
          },
          "metadata": {
            "tags": []
          },
          "execution_count": 6
        }
      ]
    },
    {
      "cell_type": "code",
      "metadata": {
        "colab": {
          "base_uri": "https://localhost:8080/",
          "height": 607
        },
        "id": "Ozz447388kUA",
        "outputId": "1f9428fe-e9d8-47d0-8f95-c5c70d159a50"
      },
      "source": [
        "from wordcloud import WordCloud, STOPWORDS\n",
        "import matplotlib.pyplot as plt\n",
        "comments = train_df['TITLE'].values\n",
        "wordcloud = WordCloud(\n",
        "    width = 640,\n",
        "    height = 640,\n",
        "    background_color = 'black',\n",
        "    stopwords = STOPWORDS).generate(str(comments))\n",
        "fig = plt.figure(\n",
        "    figsize = (12, 8),\n",
        "    facecolor = 'k',\n",
        "    edgecolor = 'k')\n",
        "plt.imshow(wordcloud, interpolation = 'bilinear')\n",
        "plt.axis('off')\n",
        "plt.tight_layout(pad=0)\n",
        "plt.show()"
      ],
      "execution_count": 7,
      "outputs": [
        {
          "output_type": "display_data",
          "data": {
            "image/png": "[encoded data removed]",
            "text/plain": [
              "<Figure size 864x576 with 1 Axes>"
            ]
          },
          "metadata": {
            "tags": []
          }
        }
      ]
    },
    {
      "cell_type": "code",
      "metadata": {
        "colab": {
          "base_uri": "https://localhost:8080/"
        },
        "id": "U9D9X6Zf-2K9",
        "outputId": "6dd131dd-4fd3-430c-aa68-d539da952e20"
      },
      "source": [
        "train_df.columns"
      ],
      "execution_count": 8,
      "outputs": [
        {
          "output_type": "execute_result",
          "data": {
            "text/plain": [
              "Index(['TITLE', 'DESCRIPTION', 'BULLET_POINTS', 'BRAND', 'BROWSE_NODE_ID'], dtype='object')"
            ]
          },
          "metadata": {
            "tags": []
          },
          "execution_count": 8
        }
      ]
    },
    {
      "cell_type": "code",
      "metadata": {
        "id": "VjfFCz2i-zdT"
      },
      "source": [
        "y = train_df['BROWSE_NODE_ID']"
      ],
      "execution_count": 9,
      "outputs": []
    },
    {
      "cell_type": "code",
      "metadata": {
        "colab": {
          "base_uri": "https://localhost:8080/",
          "height": 306
        },
        "id": "jxyC6CrX-i-h",
        "outputId": "c98b7319-2d27-41eb-bb89-b8f24fe9f518"
      },
      "source": [
        "train_df['BROWSE_NODE_ID'].plot(kind='hist') # so most of the node ids are between 0 and 0..3e6. This is the kind of biased train data we are given."
      ],
      "execution_count": 10,
      "outputs": [
        {
          "output_type": "execute_result",
          "data": {
            "text/plain": [
              "<matplotlib.axes._subplots.AxesSubplot at 0x7f1141ef43d0>"
            ]
          },
          "metadata": {
            "tags": []
          },
          "execution_count": 10
        },
        {
          "output_type": "display_data",
          "data": {
            "image/png": "[encoded data removed]",
            "text/plain": [
              "<Figure size 432x288 with 1 Axes>"
            ]
          },
          "metadata": {
            "tags": [],
            "needs_background": "light"
          }
        }
      ]
    },
    {
      "cell_type": "code",
      "metadata": {
        "id": "SWhnsWID-8LT"
      },
      "source": [
        "max_features = 20000\n",
        "max_text_length = 400#find the text with max length in code and change it for each column"
      ],
      "execution_count": 11,
      "outputs": []
    },
    {
      "cell_type": "code",
      "metadata": {
        "id": "R7SYc_Mp_aDn"
      },
      "source": [
        "x_tokenizer =text.Tokenizer(max_features)\n",
        "try:\n",
        "  x_tokenizer.fit_on_texts(list(x))\n",
        "except AttributeError:\n",
        "  x_tokenizer.fit_on_texts(list(str(x)))\n",
        "try:\n",
        "  x_tokenized = x_tokenizer.texts_to_sequences(x)\n",
        "except AttributeError:\n",
        "  x_tokenized = x_tokenizer.texts_to_sequences(str(x))\n",
        "\n",
        "x_train_val = sequence.pad_sequences(x_tokenized, maxlen=max_text_length)"
      ],
      "execution_count": 22,
      "outputs": []
    },
    {
      "cell_type": "code",
      "metadata": {
        "colab": {
          "base_uri": "https://localhost:8080/"
        },
        "id": "INYtPwh8_dE9",
        "outputId": "345047ff-86cb-4435-820c-6c8e81d36dcf"
      },
      "source": [
        "!wget http://nlp.stanford.edu/data/glove.6B.zip\n",
        "!unzip -q glove.6B.zip"
      ],
      "execution_count": 13,
      "outputs": [
        {
          "output_type": "stream",
          "text": [
            "--2021-07-30 18:38:08--  http://nlp.stanford.edu/data/glove.6B.zip\n",
            "Resolving nlp.stanford.edu (nlp.stanford.edu)... 171.64.67.140\n",
            "Connecting to nlp.stanford.edu (nlp.stanford.edu)|171.64.67.140|:80... connected.\n",
            "HTTP request sent, awaiting response... 302 Found\n",
            "Location: https://nlp.stanford.edu/data/glove.6B.zip [following]\n",
            "--2021-07-30 18:38:09--  https://nlp.stanford.edu/data/glove.6B.zip\n",
            "Connecting to nlp.stanford.edu (nlp.stanford.edu)|171.64.67.140|:443... connected.\n",
            "HTTP request sent, awaiting response... 301 Moved Permanently\n",
            "Location: http://downloads.cs.stanford.edu/nlp/data/glove.6B.zip [following]\n",
            "--2021-07-30 18:38:09--  http://downloads.cs.stanford.edu/nlp/data/glove.6B.zip\n",
            "Resolving downloads.cs.stanford.edu (downloads.cs.stanford.edu)... 171.64.64.22\n",
            "Connecting to downloads.cs.stanford.edu (downloads.cs.stanford.edu)|171.64.64.22|:80... connected.\n",
            "HTTP request sent, awaiting response... 200 OK\n",
            "Length: 862182613 (822M) [application/zip]\n",
            "Saving to: ‘glove.6B.zip’\n",
            "\n",
            "glove.6B.zip        100%[===================>] 822.24M  5.06MB/s    in 2m 40s  \n",
            "\n",
            "2021-07-30 18:40:49 (5.13 MB/s) - ‘glove.6B.zip’ saved [862182613/862182613]\n",
            "\n"
          ],
          "name": "stdout"
        }
      ]
    },
    {
      "cell_type": "code",
      "metadata": {
        "id": "zj08cHToVSA1",
        "colab": {
          "base_uri": "https://localhost:8080/"
        },
        "outputId": "46363b57-6cdc-46ec-c0dd-be334d0f8312"
      },
      "source": [
        "embedding_dim = 300\n",
        "embedding_index = dict()\n",
        "f = open('glove.6B.300d.txt', encoding=\"utf8\")\n",
        "for line in f:\n",
        "    values = line.split()\n",
        "    word = values[0]\n",
        "    coefs = np.asarray(values[1:], dtype='float32')\n",
        "    embedding_index[word] = coefs\n",
        "f.close()\n",
        "print('Loaded %s word vectors.' % len(embedding_index))"
      ],
      "execution_count": 25,
      "outputs": [
        {
          "output_type": "stream",
          "text": [
            "Loaded 400000 word vectors.\n"
          ],
          "name": "stdout"
        }
      ]
    },
    {
      "cell_type": "code",
      "metadata": {
        "colab": {
          "base_uri": "https://localhost:8080/",
          "height": 69
        },
        "id": "ejeGvjf1C28R",
        "outputId": "b28b3a96-c74c-4d9f-9b64-518b41270bc0"
      },
      "source": [
        "'''EMBEDDING_DIM=300\n",
        "vocabulary_size=min(len(word_index)+1,(NUM_WORDS))\n",
        "\n",
        "embedding_matrix = np.zeros((vocabulary_size, EMBEDDING_DIM))\n",
        "\n",
        "\n",
        "for word, i in word_index.items():\n",
        "    if i>=NUM_WORDS:\n",
        "        continue\n",
        "    try:\n",
        "        embedding_vector = word_vectors[word]\n",
        "        embedding_matrix[i] = embedding_vector\n",
        "    except KeyError:\n",
        "        vec = np.zeros(EMBEDDING_DIM)\n",
        "\n",
        "del(word_vectors)#to free up space'''"
      ],
      "execution_count": 26,
      "outputs": [
        {
          "output_type": "execute_result",
          "data": {
            "application/vnd.google.colaboratory.intrinsic+json": {
              "type": "string"
            },
            "text/plain": [
              "'EMBEDDING_DIM=300\\nvocabulary_size=min(len(word_index)+1,(NUM_WORDS))\\n\\nembedding_matrix = np.zeros((vocabulary_size, EMBEDDING_DIM))\\n\\n\\nfor word, i in word_index.items():\\n    if i>=NUM_WORDS:\\n        continue\\n    try:\\n        embedding_vector = word_vectors[word]\\n        embedding_matrix[i] = embedding_vector\\n    except KeyError:\\n        vec = np.zeros(EMBEDDING_DIM)\\n\\ndel(word_vectors)#to free up space'"
            ]
          },
          "metadata": {
            "tags": []
          },
          "execution_count": 26
        }
      ]
    },
    {
      "cell_type": "code",
      "metadata": {
        "colab": {
          "base_uri": "https://localhost:8080/"
        },
        "id": "8o_LETKDvq8-",
        "outputId": "16540418-6e3e-42f2-b31b-fb325b5452d5"
      },
      "source": [
        "x_tokenizer.word_index#sanity check"
      ],
      "execution_count": 27,
      "outputs": [
        {
          "output_type": "execute_result",
          "data": {
            "text/plain": [
              "{'for': 1,\n",
              " 'with': 2,\n",
              " 'and': 3,\n",
              " 'black': 4,\n",
              " 'cover': 5,\n",
              " 'of': 6,\n",
              " \"women's\": 7,\n",
              " \"men's\": 8,\n",
              " '2': 9,\n",
              " 'blue': 10,\n",
              " 'cotton': 11,\n",
              " 'back': 12,\n",
              " 'case': 13,\n",
              " 'printed': 14,\n",
              " 'set': 15,\n",
              " 'white': 16,\n",
              " '1': 17,\n",
              " 'pack': 18,\n",
              " 'fit': 19,\n",
              " '3': 20,\n",
              " '5': 21,\n",
              " 'shirt': 22,\n",
              " 'x': 23,\n",
              " 'women': 24,\n",
              " '4': 25,\n",
              " 'size': 26,\n",
              " '6': 27,\n",
              " 'red': 28,\n",
              " 't': 29,\n",
              " 'regular': 30,\n",
              " 'designer': 31,\n",
              " 'large': 32,\n",
              " 'inch': 33,\n",
              " 'pink': 34,\n",
              " '8': 35,\n",
              " 'in': 36,\n",
              " 'girls': 37,\n",
              " 'color': 38,\n",
              " '7': 39,\n",
              " 'green': 40,\n",
              " '10': 41,\n",
              " 'slim': 42,\n",
              " 'hard': 43,\n",
              " 'leather': 44,\n",
              " 'by': 45,\n",
              " 'home': 46,\n",
              " 'men': 47,\n",
              " 'car': 48,\n",
              " 'gold': 49,\n",
              " 'baby': 50,\n",
              " 'soft': 51,\n",
              " 'casual': 52,\n",
              " 'glass': 53,\n",
              " 'grey': 54,\n",
              " 'samsung': 55,\n",
              " 'light': 56,\n",
              " 'free': 57,\n",
              " 'silver': 58,\n",
              " 'brown': 59,\n",
              " 'uk': 60,\n",
              " 'pro': 61,\n",
              " 'mobile': 62,\n",
              " 'kids': 63,\n",
              " 'galaxy': 64,\n",
              " 'dress': 65,\n",
              " 'small': 66,\n",
              " 'l': 67,\n",
              " 'design': 68,\n",
              " '100': 69,\n",
              " '9': 70,\n",
              " 'full': 71,\n",
              " '12': 72,\n",
              " 'm': 73,\n",
              " 's': 74,\n",
              " 'shoes': 75,\n",
              " 'yellow': 76,\n",
              " 'a': 77,\n",
              " 'multi': 78,\n",
              " 'to': 79,\n",
              " 'top': 80,\n",
              " 'cm': 81,\n",
              " 'steel': 82,\n",
              " 'combo': 83,\n",
              " 'gift': 84,\n",
              " 'years': 85,\n",
              " 'the': 86,\n",
              " 'navy': 87,\n",
              " 'medium': 88,\n",
              " 'wall': 89,\n",
              " 'kurta': 90,\n",
              " '0': 91,\n",
              " 'compatible': 92,\n",
              " 'solid': 93,\n",
              " 'eu': 94,\n",
              " 'plus': 95,\n",
              " 'fashion': 96,\n",
              " 'bag': 97,\n",
              " 'flip': 98,\n",
              " 'piece': 99,\n",
              " 'boys': 100,\n",
              " 'india': 101,\n",
              " 'art': 102,\n",
              " 'plain': 103,\n",
              " 'plastic': 104,\n",
              " 'led': 105,\n",
              " 'print': 106,\n",
              " 'long': 107,\n",
              " 'screen': 108,\n",
              " 'redmi': 109,\n",
              " 'silk': 110,\n",
              " 'sleeve': 111,\n",
              " 'water': 112,\n",
              " 'usb': 113,\n",
              " 'stainless': 114,\n",
              " 'room': 115,\n",
              " 'box': 116,\n",
              " 'anti': 117,\n",
              " 'generic': 118,\n",
              " '3d': 119,\n",
              " 'holder': 120,\n",
              " 'saree': 121,\n",
              " 'body': 122,\n",
              " 'high': 123,\n",
              " 'multicolor': 124,\n",
              " 'ml': 125,\n",
              " '11': 126,\n",
              " 'round': 127,\n",
              " 'silicone': 128,\n",
              " 'party': 129,\n",
              " 'orange': 130,\n",
              " 'kit': 131,\n",
              " 'xl': 132,\n",
              " 'laptop': 133,\n",
              " 'jeans': 134,\n",
              " 'hair': 135,\n",
              " 'stand': 136,\n",
              " 'pcs': 137,\n",
              " 'note': 138,\n",
              " 'hand': 139,\n",
              " 'natural': 140,\n",
              " 'phone': 141,\n",
              " 'us': 142,\n",
              " 'mini': 143,\n",
              " 'double': 144,\n",
              " 'non': 145,\n",
              " 'inches': 146,\n",
              " 'all': 147,\n",
              " 'protector': 148,\n",
              " 'vivo': 149,\n",
              " 'iphone': 150,\n",
              " 'cable': 151,\n",
              " 'wear': 152,\n",
              " 'ring': 153,\n",
              " 'neck': 154,\n",
              " 'kitchen': 155,\n",
              " 'bra': 156,\n",
              " 'new': 157,\n",
              " 'card': 158,\n",
              " 'mug': 159,\n",
              " 'on': 160,\n",
              " 'blouse': 161,\n",
              " 'xiaomi': 162,\n",
              " 'metal': 163,\n",
              " 'oppo': 164,\n",
              " 'premium': 165,\n",
              " 'formal': 166,\n",
              " 'tempered': 167,\n",
              " 'feet': 168,\n",
              " 'c': 169,\n",
              " 'colour': 170,\n",
              " 'flower': 171,\n",
              " 'door': 172,\n",
              " 'wooden': 173,\n",
              " 'multicolour': 174,\n",
              " '15': 175,\n",
              " 'dark': 176,\n",
              " '18': 177,\n",
              " 'oil': 178,\n",
              " 'running': 179,\n",
              " 'bottle': 180,\n",
              " 'living': 181,\n",
              " 'wallet': 182,\n",
              " 'protection': 183,\n",
              " 'decor': 184,\n",
              " '20': 185,\n",
              " '40': 186,\n",
              " 'pillow': 187,\n",
              " 'shorts': 188,\n",
              " 'skin': 189,\n",
              " 'power': 190,\n",
              " '30': 191,\n",
              " 'quality': 192,\n",
              " \"girl's\": 193,\n",
              " 'seeds': 194,\n",
              " 'floral': 195,\n",
              " 'up': 196,\n",
              " 'table': 197,\n",
              " 'one': 198,\n",
              " 'purple': 199,\n",
              " 'sports': 200,\n",
              " 'night': 201,\n",
              " 'charger': 202,\n",
              " 'covers': 203,\n",
              " '16': 204,\n",
              " 'straight': 205,\n",
              " 'suit': 206,\n",
              " 'waterproof': 207,\n",
              " 'cream': 208,\n",
              " 'office': 209,\n",
              " 'ultra': 210,\n",
              " 'colors': 211,\n",
              " 'polyester': 212,\n",
              " 'fabric': 213,\n",
              " 'bed': 214,\n",
              " 'unisex': 215,\n",
              " 'birthday': 216,\n",
              " 'frame': 217,\n",
              " 'royal': 218,\n",
              " 'pure': 219,\n",
              " 'clear': 220,\n",
              " 'storage': 221,\n",
              " 'plated': 222,\n",
              " 'camera': 223,\n",
              " 'toy': 224,\n",
              " 'adjustable': 225,\n",
              " 'line': 226,\n",
              " 'coffee': 227,\n",
              " \"boy's\": 228,\n",
              " 'pc': 229,\n",
              " 'super': 230,\n",
              " 'battery': 231,\n",
              " 'max': 232,\n",
              " 'apple': 233,\n",
              " 'i': 234,\n",
              " 'beige': 235,\n",
              " 'air': 236,\n",
              " 'polo': 237,\n",
              " 'style': 238,\n",
              " 'pen': 239,\n",
              " 'digital': 240,\n",
              " 'paper': 241,\n",
              " 'dual': 242,\n",
              " 'wood': 243,\n",
              " 'cute': 244,\n",
              " 'golden': 245,\n",
              " 'brand': 246,\n",
              " 'rose': 247,\n",
              " '36': 248,\n",
              " 'transparent': 249,\n",
              " '24': 250,\n",
              " '50': 251,\n",
              " 'front': 252,\n",
              " 'matte': 253,\n",
              " 'crystal': 254,\n",
              " 'smart': 255,\n",
              " 'mi': 256,\n",
              " 'watch': 257,\n",
              " 'necklace': 258,\n",
              " 'half': 259,\n",
              " 'finish': 260,\n",
              " 'length': 261,\n",
              " 'type': 262,\n",
              " 'earrings': 263,\n",
              " 'bike': 264,\n",
              " 'decoration': 265,\n",
              " 'accessories': 266,\n",
              " 'adapter': 267,\n",
              " 'dog': 268,\n",
              " 'love': 269,\n",
              " 'single': 270,\n",
              " 'rubber': 271,\n",
              " 'ceramic': 272,\n",
              " 'mirror': 273,\n",
              " 'brass': 274,\n",
              " 'edge': 275,\n",
              " 'stone': 276,\n",
              " 'canvas': 277,\n",
              " 'window': 278,\n",
              " 'mat': 279,\n",
              " 'collection': 280,\n",
              " 'portable': 281,\n",
              " 'garden': 282,\n",
              " 'face': 283,\n",
              " 'xxl': 284,\n",
              " 'g': 285,\n",
              " 'w': 286,\n",
              " 'travel': 287,\n",
              " \"girls'\": 288,\n",
              " 'pieces': 289,\n",
              " 'mens': 290,\n",
              " 'decorative': 291,\n",
              " 'outdoor': 292,\n",
              " '14': 293,\n",
              " 'pants': 294,\n",
              " 'or': 295,\n",
              " 'girl': 296,\n",
              " '38': 297,\n",
              " 'handle': 298,\n",
              " 'series': 299,\n",
              " 'ball': 300,\n",
              " 'diamond': 301,\n",
              " 'months': 302,\n",
              " '32': 303,\n",
              " 'pouch': 304,\n",
              " '25': 305,\n",
              " 'amazon': 306,\n",
              " 'painting': 307,\n",
              " 'e': 308,\n",
              " 'side': 309,\n",
              " 'big': 310,\n",
              " 'maroon': 311,\n",
              " 'brush': 312,\n",
              " 'n': 313,\n",
              " 'cushion': 314,\n",
              " 'oz': 315,\n",
              " 'tool': 316,\n",
              " 'magnetic': 317,\n",
              " 'sneakers': 318,\n",
              " 'synthetic': 319,\n",
              " 'jacket': 320,\n",
              " 'belt': 321,\n",
              " 'shirts': 322,\n",
              " 'lamp': 323,\n",
              " 'pocket': 324,\n",
              " 'womens': 325,\n",
              " '360': 326,\n",
              " 'plant': 327,\n",
              " 'padded': 328,\n",
              " 'rayon': 329,\n",
              " 'hot': 330,\n",
              " 'heavy': 331,\n",
              " 'hd': 332,\n",
              " 'puma': 333,\n",
              " 'handmade': 334,\n",
              " 'slip': 335,\n",
              " 'no': 336,\n",
              " 'touch': 337,\n",
              " 'hanging': 338,\n",
              " 'gym': 339,\n",
              " 'sandals': 340,\n",
              " 'jewellery': 341,\n",
              " 'kurti': 342,\n",
              " '13': 343,\n",
              " 'pearl': 344,\n",
              " 'carpet': 345,\n",
              " 'poster': 346,\n",
              " 'wireless': 347,\n",
              " 'best': 348,\n",
              " 'machine': 349,\n",
              " '42': 350,\n",
              " 'cap': 351,\n",
              " \"boys'\": 352,\n",
              " 'tpu': 353,\n",
              " 'honor': 354,\n",
              " 'denim': 355,\n",
              " 'mm': 356,\n",
              " 'universal': 357,\n",
              " 'lenovo': 358,\n",
              " 'diy': 359,\n",
              " 'shape': 360,\n",
              " 'bedroom': 361,\n",
              " 'classic': 362,\n",
              " 'traditional': 363,\n",
              " 'ac': 364,\n",
              " 'made': 365,\n",
              " 'fan': 366,\n",
              " 'board': 367,\n",
              " 'pendant': 368,\n",
              " 'guard': 369,\n",
              " 'cup': 370,\n",
              " 'r': 371,\n",
              " 'toys': 372,\n",
              " 'off': 373,\n",
              " 'model': 374,\n",
              " 'short': 375,\n",
              " 'gifts': 376,\n",
              " 'gel': 377,\n",
              " 'pattern': 378,\n",
              " 'fancy': 379,\n",
              " 'filter': 380,\n",
              " 'indian': 381,\n",
              " 'v': 382,\n",
              " 'xx': 383,\n",
              " 'organizer': 384,\n",
              " 'nail': 385,\n",
              " 'lace': 386,\n",
              " 'king': 387,\n",
              " 'my': 388,\n",
              " 'bedsheet': 389,\n",
              " 'realme': 390,\n",
              " 'b': 391,\n",
              " 'curtain': 392,\n",
              " 'sticker': 393,\n",
              " 'stylish': 394,\n",
              " 'head': 395,\n",
              " 'lens': 396,\n",
              " 'vintage': 397,\n",
              " 'sleeves': 398,\n",
              " 'pet': 399,\n",
              " 'micro': 400,\n",
              " 'bluetooth': 401,\n",
              " 'proof': 402,\n",
              " 'support': 403,\n",
              " 'makeup': 404,\n",
              " 'control': 405,\n",
              " 'seat': 406,\n",
              " 'united': 407,\n",
              " 'flexible': 408,\n",
              " 'spray': 409,\n",
              " 'care': 410,\n",
              " 'net': 411,\n",
              " 'beautiful': 412,\n",
              " 'band': 413,\n",
              " 'professional': 414,\n",
              " 'game': 415,\n",
              " 'protective': 416,\n",
              " 'remote': 417,\n",
              " 'use': 418,\n",
              " 'heart': 419,\n",
              " 'velvet': 420,\n",
              " 'bumper': 421,\n",
              " 'cleaning': 422,\n",
              " 'eye': 423,\n",
              " '500': 424,\n",
              " 'tea': 425,\n",
              " 'chrome': 426,\n",
              " 'bathroom': 427,\n",
              " 'organic': 428,\n",
              " 'resistant': 429,\n",
              " 'powder': 430,\n",
              " 'stick': 431,\n",
              " 'ear': 432,\n",
              " 'electric': 433,\n",
              " 'from': 434,\n",
              " 'leggings': 435,\n",
              " 'star': 436,\n",
              " 'auto': 437,\n",
              " 'luxury': 438,\n",
              " 'material': 439,\n",
              " 'curtains': 440,\n",
              " 'cartoon': 441,\n",
              " 'shoe': 442,\n",
              " 'craft': 443,\n",
              " 'knee': 444,\n",
              " 'chain': 445,\n",
              " 'p': 446,\n",
              " 'mouse': 447,\n",
              " 'dial': 448,\n",
              " 'square': 449,\n",
              " 'certified': 450,\n",
              " 'degree': 451,\n",
              " 'cat': 452,\n",
              " '34': 453,\n",
              " 'ft': 454,\n",
              " 'foam': 455,\n",
              " 'pencil': 456,\n",
              " 'vinyl': 457,\n",
              " 'day': 458,\n",
              " 'cloth': 459,\n",
              " 'tank': 460,\n",
              " 'tan': 461,\n",
              " 'benetton': 462,\n",
              " 'play': 463,\n",
              " 'h': 464,\n",
              " 'wired': 465,\n",
              " 'assorted': 466,\n",
              " 'strap': 467,\n",
              " 'sky': 468,\n",
              " 'pu': 469,\n",
              " 'huawei': 470,\n",
              " 'd': 471,\n",
              " 'pad': 472,\n",
              " 'chair': 473,\n",
              " 'pair': 474,\n",
              " 'sunglasses': 475,\n",
              " 'jewelry': 476,\n",
              " '44': 477,\n",
              " 'olive': 478,\n",
              " 'shockproof': 479,\n",
              " 'striped': 480,\n",
              " 'lights': 481,\n",
              " 'you': 482,\n",
              " 'pot': 483,\n",
              " 'genuine': 484,\n",
              " 'uv': 485,\n",
              " 'weight': 486,\n",
              " 'salwar': 487,\n",
              " 'slippers': 488,\n",
              " 'background': 489,\n",
              " 'your': 490,\n",
              " 'mask': 491,\n",
              " 'photo': 492,\n",
              " 'scratch': 493,\n",
              " 'checkered': 494,\n",
              " 'silicon': 495,\n",
              " 'audio': 496,\n",
              " 'bath': 497,\n",
              " 'shower': 498,\n",
              " 'work': 499,\n",
              " 'modern': 500,\n",
              " 'android': 501,\n",
              " 'o': 502,\n",
              " 'sterling': 503,\n",
              " 'two': 504,\n",
              " '28': 505,\n",
              " 'lcd': 506,\n",
              " 'copper': 507,\n",
              " 'mesh': 508,\n",
              " 'bracelet': 509,\n",
              " 'bottom': 510,\n",
              " 'ladies': 511,\n",
              " 'gemstone': 512,\n",
              " 'music': 513,\n",
              " 'yoga': 514,\n",
              " '2018': 515,\n",
              " 'sheet': 516,\n",
              " 'meter': 517,\n",
              " 'display': 518,\n",
              " 'hp': 519,\n",
              " 'house': 520,\n",
              " 'pvc': 521,\n",
              " 'moto': 522,\n",
              " 'pyjama': 523,\n",
              " 'analog': 524,\n",
              " 'tv': 525,\n",
              " '60': 526,\n",
              " 'acrylic': 527,\n",
              " 'bar': 528,\n",
              " 'satin': 529,\n",
              " 'standard': 530,\n",
              " 'indoor': 531,\n",
              " 'winter': 532,\n",
              " 'ethnic': 533,\n",
              " 'towel': 534,\n",
              " 'creation': 535,\n",
              " 'only': 536,\n",
              " 'paint': 537,\n",
              " 'tape': 538,\n",
              " 'kg': 539,\n",
              " 'trousers': 540,\n",
              " 'latest': 541,\n",
              " 'elegant': 542,\n",
              " 'woman': 543,\n",
              " 'unlimited': 544,\n",
              " 'keyboard': 545,\n",
              " 'pin': 546,\n",
              " 'magic': 547,\n",
              " 'soap': 548,\n",
              " 'mount': 549,\n",
              " 'summer': 550,\n",
              " 'view': 551,\n",
              " 'may': 552,\n",
              " 'foot': 553,\n",
              " 'key': 554,\n",
              " 'skinny': 555,\n",
              " 'earring': 556,\n",
              " 'nighty': 557,\n",
              " 'lite': 558,\n",
              " 'shampoo': 559,\n",
              " 'dc': 560,\n",
              " 'thread': 561,\n",
              " 'cake': 562,\n",
              " 'film': 563,\n",
              " 'maruti': 564,\n",
              " '2019': 565,\n",
              " 'pockets': 566,\n",
              " 'cut': 567,\n",
              " 'without': 568,\n",
              " '200': 569,\n",
              " 'peach': 570,\n",
              " 'dry': 571,\n",
              " 'idol': 572,\n",
              " 'iron': 573,\n",
              " 'bowl': 574,\n",
              " 'products': 575,\n",
              " 'rack': 576,\n",
              " '22': 577,\n",
              " 'queen': 578,\n",
              " 'life': 579,\n",
              " 'gloves': 580,\n",
              " 'prime': 581,\n",
              " 'cool': 582,\n",
              " 'wedding': 583,\n",
              " '39': 584,\n",
              " 'hybrid': 585,\n",
              " 'vest': 586,\n",
              " 'sofa': 587,\n",
              " 'waist': 588,\n",
              " 'cases': 589,\n",
              " 'american': 590,\n",
              " 'memory': 591,\n",
              " 'wire': 592,\n",
              " 'clip': 593,\n",
              " 'flops': 594,\n",
              " 'tc': 595,\n",
              " 'store': 596,\n",
              " 'embroidered': 597,\n",
              " 'self': 598,\n",
              " 'layer': 599,\n",
              " 'extra': 600,\n",
              " 'bags': 601,\n",
              " 'tools': 602,\n",
              " 'k': 603,\n",
              " 'poly': 604,\n",
              " 'wrap': 605,\n",
              " 'georgette': 606,\n",
              " 'beads': 607,\n",
              " '01': 608,\n",
              " 'fruit': 609,\n",
              " 'name': 610,\n",
              " 'food': 611,\n",
              " 'shoulder': 612,\n",
              " 'god': 613,\n",
              " 'oneplus': 614,\n",
              " 'stickers': 615,\n",
              " 'sony': 616,\n",
              " 'figure': 617,\n",
              " 'switch': 618,\n",
              " 'tray': 619,\n",
              " 'vary': 620,\n",
              " 'low': 621,\n",
              " '17': 622,\n",
              " 'u': 623,\n",
              " 'flat': 624,\n",
              " 'backpack': 625,\n",
              " 'block': 626,\n",
              " 'lock': 627,\n",
              " 'statue': 628,\n",
              " 'jar': 629,\n",
              " 'semi': 630,\n",
              " 'charging': 631,\n",
              " 'coverage': 632,\n",
              " '2xl': 633,\n",
              " 'nokia': 634,\n",
              " 'suzuki': 635,\n",
              " 'charcoal': 636,\n",
              " 'system': 637,\n",
              " 'lid': 638,\n",
              " 'folding': 639,\n",
              " 'blend': 640,\n",
              " 'antique': 641,\n",
              " 'fast': 642,\n",
              " 'fitness': 643,\n",
              " 'fish': 644,\n",
              " 'marble': 645,\n",
              " 'special': 646,\n",
              " 'blanket': 647,\n",
              " 'lycra': 648,\n",
              " 'printfidaa': 649,\n",
              " 'button': 650,\n",
              " 'duty': 651,\n",
              " 'core': 652,\n",
              " 'shelf': 653,\n",
              " 'sun': 654,\n",
              " 'nylon': 655,\n",
              " 'pant': 656,\n",
              " 'sport': 657,\n",
              " 'tablet': 658,\n",
              " 'asus': 659,\n",
              " 'wine': 660,\n",
              " 'grip': 661,\n",
              " 'speed': 662,\n",
              " 'easy': 663,\n",
              " 'jack': 664,\n",
              " 'dust': 665,\n",
              " 'tshirt': 666,\n",
              " 'elastic': 667,\n",
              " '41': 668,\n",
              " '9h': 669,\n",
              " 'creations': 670,\n",
              " 'replacement': 671,\n",
              " 'drive': 672,\n",
              " 'ink': 673,\n",
              " 'deep': 674,\n",
              " 'anniversary': 675,\n",
              " 'floor': 676,\n",
              " 'roll': 677,\n",
              " 'each': 678,\n",
              " 'flowers': 679,\n",
              " 'creative': 680,\n",
              " 'logo': 681,\n",
              " 'automatic': 682,\n",
              " 'clock': 683,\n",
              " 'mosquito': 684,\n",
              " 'jewels': 685,\n",
              " 'wash': 686,\n",
              " 'furniture': 687,\n",
              " 'maxi': 688,\n",
              " 'xs': 689,\n",
              " 'gown': 690,\n",
              " 'adhesive': 691,\n",
              " 'plate': 692,\n",
              " 'action': 693,\n",
              " 'shock': 694,\n",
              " 'height': 695,\n",
              " 'glasses': 696,\n",
              " 'tops': 697,\n",
              " 'track': 698,\n",
              " 'gm': 699,\n",
              " 'comfort': 700,\n",
              " 'look': 701,\n",
              " 'motorcycle': 702,\n",
              " 'coloured': 703,\n",
              " 'brief': 704,\n",
              " 'colorful': 705,\n",
              " 'stitched': 706,\n",
              " 'pantaloons': 707,\n",
              " 'symbol': 708,\n",
              " 'wheel': 709,\n",
              " '35': 710,\n",
              " 'arm': 711,\n",
              " 'grade': 712,\n",
              " 'collar': 713,\n",
              " 'drop': 714,\n",
              " 'thin': 715,\n",
              " 'sexy': 716,\n",
              " 'chocolate': 717,\n",
              " 'loose': 718,\n",
              " 'alloy': 719,\n",
              " 'sound': 720,\n",
              " 'christmas': 721,\n",
              " 'artificial': 722,\n",
              " 'tab': 723,\n",
              " 'is': 724,\n",
              " 'world': 725,\n",
              " 'glitter': 726,\n",
              " 'faux': 727,\n",
              " 'shell': 728,\n",
              " '–': 729,\n",
              " 'ratti': 730,\n",
              " 'tie': 731,\n",
              " 'seater': 732,\n",
              " 'cell': 733,\n",
              " 'aqua': 734,\n",
              " '43': 735,\n",
              " 'socks': 736,\n",
              " 'lord': 737,\n",
              " 'unique': 738,\n",
              " 'foldable': 739,\n",
              " 'dining': 740,\n",
              " 'motorola': 741,\n",
              " 'sweatshirt': 742,\n",
              " 'doll': 743,\n",
              " 'open': 744,\n",
              " 'basket': 745,\n",
              " 'aquarium': 746,\n",
              " '75': 747,\n",
              " 'training': 748,\n",
              " 'pads': 749,\n",
              " 'lightweight': 750,\n",
              " 'speaker': 751,\n",
              " 'gray': 752,\n",
              " 'bulb': 753,\n",
              " 'book': 754,\n",
              " '45': 755,\n",
              " 'durable': 756,\n",
              " 'embroidery': 757,\n",
              " 'cleaner': 758,\n",
              " '925': 759,\n",
              " 'maternity': 760,\n",
              " 'sleeveless': 761,\n",
              " 'container': 762,\n",
              " 'boy': 763,\n",
              " 'desk': 764,\n",
              " 'unstitched': 765,\n",
              " '2017': 766,\n",
              " '19': 767,\n",
              " 'hook': 768,\n",
              " 'little': 769,\n",
              " 'purpose': 770,\n",
              " 'armor': 771,\n",
              " 'fine': 772,\n",
              " '26': 773,\n",
              " 'cross': 774,\n",
              " 'sensor': 775,\n",
              " 'ice': 776,\n",
              " '48': 777,\n",
              " 'cutter': 778,\n",
              " 'carbon': 779,\n",
              " 'reversible': 780,\n",
              " 'children': 781,\n",
              " 'bangles': 782,\n",
              " 'palazzo': 783,\n",
              " 'supplies': 784,\n",
              " 'video': 785,\n",
              " 'man': 786,\n",
              " 'tip': 787,\n",
              " 'sea': 788,\n",
              " 'original': 789,\n",
              " 'liquid': 790,\n",
              " 'quick': 791,\n",
              " 'panty': 792,\n",
              " '5mm': 793,\n",
              " 'hero': 794,\n",
              " 'herbal': 795,\n",
              " 'coral': 796,\n",
              " 'eco': 797,\n",
              " 'melange': 798,\n",
              " 'ankle': 799,\n",
              " '5d': 800,\n",
              " 'tree': 801,\n",
              " 'skirt': 802,\n",
              " 'multicolored': 803,\n",
              " 'abstract': 804,\n",
              " 'enterprise': 805,\n",
              " 'cherokee': 806,\n",
              " '21': 807,\n",
              " 'flash': 808,\n",
              " 'scale': 809,\n",
              " '90': 810,\n",
              " 'sheets': 811,\n",
              " 'string': 812,\n",
              " 'disney': 813,\n",
              " 'adidas': 814,\n",
              " 'gun': 815,\n",
              " 'dispenser': 816,\n",
              " 'heat': 817,\n",
              " 'not': 818,\n",
              " 'warm': 819,\n",
              " '37': 820,\n",
              " 'school': 821,\n",
              " 'handbag': 822,\n",
              " 'ipad': 823,\n",
              " 'facial': 824,\n",
              " 'real': 825,\n",
              " 'bikini': 826,\n",
              " 'mic': 827,\n",
              " 'acm': 828,\n",
              " 'wallpaper': 829,\n",
              " 'hub': 830,\n",
              " 'safety': 831,\n",
              " 'handloom': 832,\n",
              " 'crafts': 833,\n",
              " 'electronic': 834,\n",
              " '46': 835,\n",
              " '150': 836,\n",
              " 'exclusive': 837,\n",
              " 'tee': 838,\n",
              " 'gram': 839,\n",
              " 'stud': 840,\n",
              " 'f': 841,\n",
              " 'panel': 842,\n",
              " 'framed': 843,\n",
              " 'sim': 844,\n",
              " 'international': 845,\n",
              " 'theme': 846,\n",
              " 'couple': 847,\n",
              " 'fiber': 848,\n",
              " 'rope': 849,\n",
              " '1pc': 850,\n",
              " 'controller': 851,\n",
              " 'multipurpose': 852,\n",
              " 'comfortable': 853,\n",
              " 'enterprises': 854,\n",
              " 'aluminium': 855,\n",
              " 'year': 856,\n",
              " 'de': 857,\n",
              " 'go': 858,\n",
              " 'aluminum': 859,\n",
              " 'bright': 860,\n",
              " 'stripe': 861,\n",
              " 'thick': 862,\n",
              " 'microfiber': 863,\n",
              " 'perfume': 864,\n",
              " 'vacuum': 865,\n",
              " 'base': 866,\n",
              " 'polycarbonate': 867,\n",
              " 'eyelet': 868,\n",
              " 'decal': 869,\n",
              " '400': 870,\n",
              " 'notebook': 871,\n",
              " 'kickstand': 872,\n",
              " 'rear': 873,\n",
              " 'edition': 874,\n",
              " 'turquoise': 875,\n",
              " 'viscose': 876,\n",
              " 'imported': 877,\n",
              " 'finger': 878,\n",
              " 'gsm': 879,\n",
              " 'stretchable': 880,\n",
              " 'honey': 881,\n",
              " 'quote': 882,\n",
              " 'studio': 883,\n",
              " 'gb': 884,\n",
              " 'helmet': 885,\n",
              " 'plush': 886,\n",
              " 'princess': 887,\n",
              " 'tube': 888,\n",
              " 'spring': 889,\n",
              " 'old': 890,\n",
              " 'bangle': 891,\n",
              " 'y': 892,\n",
              " 'beach': 893,\n",
              " 'capacity': 894,\n",
              " 'me': 895,\n",
              " 'windows': 896,\n",
              " 'safe': 897,\n",
              " 'woven': 898,\n",
              " 'rich': 899,\n",
              " 'van': 900,\n",
              " 'mustard': 901,\n",
              " 'temple': 902,\n",
              " 'allen': 903,\n",
              " 'solly': 904,\n",
              " 'decorations': 905,\n",
              " 'kitty': 906,\n",
              " 'paintings': 907,\n",
              " 'good': 908,\n",
              " 'guitar': 909,\n",
              " 'sets': 910,\n",
              " 'port': 911,\n",
              " 'cartridge': 912,\n",
              " 'fresh': 913,\n",
              " 'shaped': 914,\n",
              " '250': 915,\n",
              " 'mounted': 916,\n",
              " 'wheels': 917,\n",
              " 'lee': 918,\n",
              " 'watt': 919,\n",
              " 'cherry': 920,\n",
              " 'plug': 921,\n",
              " 'as': 922,\n",
              " 'nike': 923,\n",
              " 'essential': 924,\n",
              " 'bird': 925,\n",
              " 'london': 926,\n",
              " 'rc': 927,\n",
              " 'stereo': 928,\n",
              " 'global': 929,\n",
              " 'urban': 930,\n",
              " 'marvel': 931,\n",
              " 'data': 932,\n",
              " 'pipe': 933,\n",
              " 'showpiece': 934,\n",
              " 'sleep': 935,\n",
              " 'diary': 936,\n",
              " 'healing': 937,\n",
              " '6s': 938,\n",
              " 'walking': 939,\n",
              " 'pressure': 940,\n",
              " 'friends': 941,\n",
              " 'happy': 942,\n",
              " 'hyundai': 943,\n",
              " 'renewed': 944,\n",
              " 'daily': 945,\n",
              " 'glue': 946,\n",
              " 'honda': 947,\n",
              " 'boyfriend': 948,\n",
              " 'dupatta': 949,\n",
              " 'electroprime': 950,\n",
              " 'adult': 951,\n",
              " 'microphone': 952,\n",
              " 'roller': 953,\n",
              " 'bear': 954,\n",
              " 'toddler': 955,\n",
              " 'push': 956,\n",
              " 'indigo': 957,\n",
              " 'khaki': 958,\n",
              " '100ml': 959,\n",
              " 'reusable': 960,\n",
              " 'lemon': 961,\n",
              " 'washing': 962,\n",
              " 'lg': 963,\n",
              " 'headphones': 964,\n",
              " 'zipper': 965,\n",
              " 'included': 966,\n",
              " 'perfect': 967,\n",
              " 'seamless': 968,\n",
              " 'décor': 969,\n",
              " 'plants': 970,\n",
              " 'ram': 971,\n",
              " 'pepe': 972,\n",
              " 'association': 973,\n",
              " '2016': 974,\n",
              " 'function': 975,\n",
              " 'egg': 976,\n",
              " 'dresses': 977,\n",
              " 'la': 978,\n",
              " 'female': 979,\n",
              " 'male': 980,\n",
              " 'knife': 981,\n",
              " 'hat': 982,\n",
              " 'ounce': 983,\n",
              " 'kid': 984,\n",
              " 'fishing': 985,\n",
              " '27': 986,\n",
              " 'lip': 987,\n",
              " 'mid': 988,\n",
              " 'pump': 989,\n",
              " 'accessory': 990,\n",
              " 'purse': 991,\n",
              " 'pan': 992,\n",
              " 'zip': 993,\n",
              " '80': 994,\n",
              " 'linen': 995,\n",
              " 'unicorn': 996,\n",
              " 'vegetable': 997,\n",
              " 'army': 998,\n",
              " 'clean': 999,\n",
              " 'graphic': 1000,\n",
              " ...}"
            ]
          },
          "metadata": {
            "tags": []
          },
          "execution_count": 27
        }
      ]
    },
    {
      "cell_type": "code",
      "metadata": {
        "id": "hLAOP9ozYIx1"
      },
      "source": [
        "embedding_matrix = np.zeros((max_features, embedding_dim))\n",
        "for word, index in x_tokenizer.word_index.items():\n",
        "  if index>max_features -1:\n",
        "    break\n",
        "  else:\n",
        "    embedding_vector = embedding_index.get(word)\n",
        "    if embedding_vector is not None:\n",
        "      embedding_matrix[index] = embedding_vector\n"
      ],
      "execution_count": 28,
      "outputs": []
    },
    {
      "cell_type": "code",
      "metadata": {
        "id": "Hn-sjHYZDHLU"
      },
      "source": [
        "model = Sequential()\n",
        "model.add(Embedding(max_features,\n",
        "                    embedding_dim,\n",
        "                    embeddings_initializer=tf.keras.initializers.Constant(\n",
        "                        embedding_matrix),trainable=False))\n",
        "model.add(Dropout(0.2))\n"
      ],
      "execution_count": 29,
      "outputs": []
    },
    {
      "cell_type": "code",
      "metadata": {
        "id": "fVICq9bCDMjk"
      },
      "source": [
        "#del(embedding_matrix)"
      ],
      "execution_count": null,
      "outputs": []
    },
    {
      "cell_type": "markdown",
      "metadata": {
        "id": "7df7zRebZfTP"
      },
      "source": [
        "### Building The Model"
      ]
    },
    {
      "cell_type": "code",
      "metadata": {
        "id": "fSPn5SmQZoau"
      },
      "source": [
        "filters = 250\n",
        "kernel_size = 3\n",
        "hidden_dims = 250"
      ],
      "execution_count": 30,
      "outputs": []
    },
    {
      "cell_type": "code",
      "metadata": {
        "id": "FLEToGmCb3ZF",
        "colab": {
          "base_uri": "https://localhost:8080/"
        },
        "outputId": "70fdbed3-4774-443d-c3e8-021ad8d481a3"
      },
      "source": [
        "model.add(Conv1D(filters,\n",
        "                 kernel_size,\n",
        "                 padding='valid'))\n",
        "model.add(MaxPooling1D())\n",
        "model.add(Conv1D(filters,\n",
        "                 5,\n",
        "                 padding='valid',\n",
        "                 activation='relu'))\n",
        "model.add(GlobalMaxPooling1D())\n",
        "model.add(Dense(hidden_dims, activation='relu'))\n",
        "model.add(Dropout(0.2))\n",
        "\n",
        "model.add(Dense(1,activation='sigmoid'))\n",
        "model.summary()"
      ],
      "execution_count": 31,
      "outputs": [
        {
          "output_type": "stream",
          "text": [
            "Model: \"sequential\"\n",
            "_________________________________________________________________\n",
            "Layer (type)                 Output Shape              Param #   \n",
            "=================================================================\n",
            "embedding (Embedding)        (None, None, 300)         6000000   \n",
            "_________________________________________________________________\n",
            "dropout (Dropout)            (None, None, 300)         0         \n",
            "_________________________________________________________________\n",
            "conv1d (Conv1D)              (None, None, 250)         225250    \n",
            "_________________________________________________________________\n",
            "max_pooling1d (MaxPooling1D) (None, None, 250)         0         \n",
            "_________________________________________________________________\n",
            "conv1d_1 (Conv1D)            (None, None, 250)         312750    \n",
            "_________________________________________________________________\n",
            "global_max_pooling1d (Global (None, 250)               0         \n",
            "_________________________________________________________________\n",
            "dense (Dense)                (None, 250)               62750     \n",
            "_________________________________________________________________\n",
            "dropout_1 (Dropout)          (None, 250)               0         \n",
            "_________________________________________________________________\n",
            "dense_1 (Dense)              (None, 1)                 251       \n",
            "=================================================================\n",
            "Total params: 6,601,001\n",
            "Trainable params: 601,001\n",
            "Non-trainable params: 6,000,000\n",
            "_________________________________________________________________\n"
          ],
          "name": "stdout"
        }
      ]
    },
    {
      "cell_type": "markdown",
      "metadata": {
        "id": "Ya9rhe8QcVrV"
      },
      "source": [
        "Train Model"
      ]
    },
    {
      "cell_type": "code",
      "metadata": {
        "id": "QwYgXtNZcjZ4",
        "colab": {
          "base_uri": "https://localhost:8080/",
          "height": 337
        },
        "outputId": "c0b01d91-efdc-4d30-ca0c-cbf62efd9b1b"
      },
      "source": [
        "x_train, x_val, y_train, y_val = train_test_split(x_train_val,\n",
        "                                                  y,\n",
        "                                                  test_size=0.15,\n",
        "                                                  random_state=1)"
      ],
      "execution_count": 33,
      "outputs": [
        {
          "output_type": "error",
          "ename": "ValueError",
          "evalue": "ignored",
          "traceback": [
            "\u001b[0;31m---------------------------------------------------------------------------\u001b[0m",
            "\u001b[0;31mValueError\u001b[0m                                Traceback (most recent call last)",
            "\u001b[0;32m<ipython-input-33-0ce668a240d1>\u001b[0m in \u001b[0;36m<module>\u001b[0;34m()\u001b[0m\n\u001b[1;32m      2\u001b[0m                                                   \u001b[0my\u001b[0m\u001b[0;34m,\u001b[0m\u001b[0;34m\u001b[0m\u001b[0;34m\u001b[0m\u001b[0m\n\u001b[1;32m      3\u001b[0m                                                   \u001b[0mtest_size\u001b[0m\u001b[0;34m=\u001b[0m\u001b[0;36m0.15\u001b[0m\u001b[0;34m,\u001b[0m\u001b[0;34m\u001b[0m\u001b[0;34m\u001b[0m\u001b[0m\n\u001b[0;32m----> 4\u001b[0;31m                                                   random_state=1)\n\u001b[0m",
            "\u001b[0;32m/usr/local/lib/python3.7/dist-packages/sklearn/model_selection/_split.py\u001b[0m in \u001b[0;36mtrain_test_split\u001b[0;34m(*arrays, **options)\u001b[0m\n\u001b[1;32m   2116\u001b[0m         \u001b[0;32mraise\u001b[0m \u001b[0mTypeError\u001b[0m\u001b[0;34m(\u001b[0m\u001b[0;34m\"Invalid parameters passed: %s\"\u001b[0m \u001b[0;34m%\u001b[0m \u001b[0mstr\u001b[0m\u001b[0;34m(\u001b[0m\u001b[0moptions\u001b[0m\u001b[0;34m)\u001b[0m\u001b[0;34m)\u001b[0m\u001b[0;34m\u001b[0m\u001b[0;34m\u001b[0m\u001b[0m\n\u001b[1;32m   2117\u001b[0m \u001b[0;34m\u001b[0m\u001b[0m\n\u001b[0;32m-> 2118\u001b[0;31m     \u001b[0marrays\u001b[0m \u001b[0;34m=\u001b[0m \u001b[0mindexable\u001b[0m\u001b[0;34m(\u001b[0m\u001b[0;34m*\u001b[0m\u001b[0marrays\u001b[0m\u001b[0;34m)\u001b[0m\u001b[0;34m\u001b[0m\u001b[0;34m\u001b[0m\u001b[0m\n\u001b[0m\u001b[1;32m   2119\u001b[0m \u001b[0;34m\u001b[0m\u001b[0m\n\u001b[1;32m   2120\u001b[0m     \u001b[0mn_samples\u001b[0m \u001b[0;34m=\u001b[0m \u001b[0m_num_samples\u001b[0m\u001b[0;34m(\u001b[0m\u001b[0marrays\u001b[0m\u001b[0;34m[\u001b[0m\u001b[0;36m0\u001b[0m\u001b[0;34m]\u001b[0m\u001b[0;34m)\u001b[0m\u001b[0;34m\u001b[0m\u001b[0;34m\u001b[0m\u001b[0m\n",
            "\u001b[0;32m/usr/local/lib/python3.7/dist-packages/sklearn/utils/validation.py\u001b[0m in \u001b[0;36mindexable\u001b[0;34m(*iterables)\u001b[0m\n\u001b[1;32m    246\u001b[0m     \"\"\"\n\u001b[1;32m    247\u001b[0m     \u001b[0mresult\u001b[0m \u001b[0;34m=\u001b[0m \u001b[0;34m[\u001b[0m\u001b[0m_make_indexable\u001b[0m\u001b[0;34m(\u001b[0m\u001b[0mX\u001b[0m\u001b[0;34m)\u001b[0m \u001b[0;32mfor\u001b[0m \u001b[0mX\u001b[0m \u001b[0;32min\u001b[0m \u001b[0miterables\u001b[0m\u001b[0;34m]\u001b[0m\u001b[0;34m\u001b[0m\u001b[0;34m\u001b[0m\u001b[0m\n\u001b[0;32m--> 248\u001b[0;31m     \u001b[0mcheck_consistent_length\u001b[0m\u001b[0;34m(\u001b[0m\u001b[0;34m*\u001b[0m\u001b[0mresult\u001b[0m\u001b[0;34m)\u001b[0m\u001b[0;34m\u001b[0m\u001b[0;34m\u001b[0m\u001b[0m\n\u001b[0m\u001b[1;32m    249\u001b[0m     \u001b[0;32mreturn\u001b[0m \u001b[0mresult\u001b[0m\u001b[0;34m\u001b[0m\u001b[0;34m\u001b[0m\u001b[0m\n\u001b[1;32m    250\u001b[0m \u001b[0;34m\u001b[0m\u001b[0m\n",
            "\u001b[0;32m/usr/local/lib/python3.7/dist-packages/sklearn/utils/validation.py\u001b[0m in \u001b[0;36mcheck_consistent_length\u001b[0;34m(*arrays)\u001b[0m\n\u001b[1;32m    210\u001b[0m     \u001b[0;32mif\u001b[0m \u001b[0mlen\u001b[0m\u001b[0;34m(\u001b[0m\u001b[0muniques\u001b[0m\u001b[0;34m)\u001b[0m \u001b[0;34m>\u001b[0m \u001b[0;36m1\u001b[0m\u001b[0;34m:\u001b[0m\u001b[0;34m\u001b[0m\u001b[0;34m\u001b[0m\u001b[0m\n\u001b[1;32m    211\u001b[0m         raise ValueError(\"Found input variables with inconsistent numbers of\"\n\u001b[0;32m--> 212\u001b[0;31m                          \" samples: %r\" % [int(l) for l in lengths])\n\u001b[0m\u001b[1;32m    213\u001b[0m \u001b[0;34m\u001b[0m\u001b[0m\n\u001b[1;32m    214\u001b[0m \u001b[0;34m\u001b[0m\u001b[0m\n",
            "\u001b[0;31mValueError\u001b[0m: Found input variables with inconsistent numbers of samples: [714, 2903024]"
          ]
        }
      ]
    },
    {
      "cell_type": "code",
      "metadata": {
        "id": "i1lpjeBMepE-",
        "colab": {
          "base_uri": "https://localhost:8080/",
          "height": 398
        },
        "outputId": "0cbc0cd1-4262-4a0d-d0ee-64c605508cb7"
      },
      "source": [
        "'''%%time\n",
        "batch_size = 32\n",
        "epocha = 3\n",
        "\n",
        "model.fit(x_train, y_train,\n",
        "          batch_size=batch_size,\n",
        "          epochs=3,\n",
        "          validation_data=(x_val,y_val))'''"
      ],
      "execution_count": null,
      "outputs": [
        {
          "output_type": "error",
          "ename": "NameError",
          "evalue": "ignored",
          "traceback": [
            "\u001b[0;31m---------------------------------------------------------------------------\u001b[0m",
            "\u001b[0;31mNameError\u001b[0m                                 Traceback (most recent call last)",
            "\u001b[0;32m<ipython-input-50-aed8f6ae5086>\u001b[0m in \u001b[0;36m<module>\u001b[0;34m()\u001b[0m\n\u001b[0;32m----> 1\u001b[0;31m \u001b[0mget_ipython\u001b[0m\u001b[0;34m(\u001b[0m\u001b[0;34m)\u001b[0m\u001b[0;34m.\u001b[0m\u001b[0mrun_cell_magic\u001b[0m\u001b[0;34m(\u001b[0m\u001b[0;34m'time'\u001b[0m\u001b[0;34m,\u001b[0m \u001b[0;34m''\u001b[0m\u001b[0;34m,\u001b[0m \u001b[0;34m'batch_size = 32\\nepocha = 3\\n\\nmodel.fit(x_train, y_train,\\n          batch_size=batch_size,\\n          epochs=3,\\n          validation_data=(x_val,y_val))'\u001b[0m\u001b[0;34m)\u001b[0m\u001b[0;34m\u001b[0m\u001b[0;34m\u001b[0m\u001b[0m\n\u001b[0m",
            "\u001b[0;32m/usr/local/lib/python3.7/dist-packages/IPython/core/interactiveshell.py\u001b[0m in \u001b[0;36mrun_cell_magic\u001b[0;34m(self, magic_name, line, cell)\u001b[0m\n\u001b[1;32m   2115\u001b[0m             \u001b[0mmagic_arg_s\u001b[0m \u001b[0;34m=\u001b[0m \u001b[0mself\u001b[0m\u001b[0;34m.\u001b[0m\u001b[0mvar_expand\u001b[0m\u001b[0;34m(\u001b[0m\u001b[0mline\u001b[0m\u001b[0;34m,\u001b[0m \u001b[0mstack_depth\u001b[0m\u001b[0;34m)\u001b[0m\u001b[0;34m\u001b[0m\u001b[0;34m\u001b[0m\u001b[0m\n\u001b[1;32m   2116\u001b[0m             \u001b[0;32mwith\u001b[0m \u001b[0mself\u001b[0m\u001b[0;34m.\u001b[0m\u001b[0mbuiltin_trap\u001b[0m\u001b[0;34m:\u001b[0m\u001b[0;34m\u001b[0m\u001b[0;34m\u001b[0m\u001b[0m\n\u001b[0;32m-> 2117\u001b[0;31m                 \u001b[0mresult\u001b[0m \u001b[0;34m=\u001b[0m \u001b[0mfn\u001b[0m\u001b[0;34m(\u001b[0m\u001b[0mmagic_arg_s\u001b[0m\u001b[0;34m,\u001b[0m \u001b[0mcell\u001b[0m\u001b[0;34m)\u001b[0m\u001b[0;34m\u001b[0m\u001b[0;34m\u001b[0m\u001b[0m\n\u001b[0m\u001b[1;32m   2118\u001b[0m             \u001b[0;32mreturn\u001b[0m \u001b[0mresult\u001b[0m\u001b[0;34m\u001b[0m\u001b[0;34m\u001b[0m\u001b[0m\n\u001b[1;32m   2119\u001b[0m \u001b[0;34m\u001b[0m\u001b[0m\n",
            "\u001b[0;32m<decorator-gen-53>\u001b[0m in \u001b[0;36mtime\u001b[0;34m(self, line, cell, local_ns)\u001b[0m\n",
            "\u001b[0;32m/usr/local/lib/python3.7/dist-packages/IPython/core/magic.py\u001b[0m in \u001b[0;36m<lambda>\u001b[0;34m(f, *a, **k)\u001b[0m\n\u001b[1;32m    186\u001b[0m     \u001b[0;31m# but it's overkill for just that one bit of state.\u001b[0m\u001b[0;34m\u001b[0m\u001b[0;34m\u001b[0m\u001b[0;34m\u001b[0m\u001b[0m\n\u001b[1;32m    187\u001b[0m     \u001b[0;32mdef\u001b[0m \u001b[0mmagic_deco\u001b[0m\u001b[0;34m(\u001b[0m\u001b[0marg\u001b[0m\u001b[0;34m)\u001b[0m\u001b[0;34m:\u001b[0m\u001b[0;34m\u001b[0m\u001b[0;34m\u001b[0m\u001b[0m\n\u001b[0;32m--> 188\u001b[0;31m         \u001b[0mcall\u001b[0m \u001b[0;34m=\u001b[0m \u001b[0;32mlambda\u001b[0m \u001b[0mf\u001b[0m\u001b[0;34m,\u001b[0m \u001b[0;34m*\u001b[0m\u001b[0ma\u001b[0m\u001b[0;34m,\u001b[0m \u001b[0;34m**\u001b[0m\u001b[0mk\u001b[0m\u001b[0;34m:\u001b[0m \u001b[0mf\u001b[0m\u001b[0;34m(\u001b[0m\u001b[0;34m*\u001b[0m\u001b[0ma\u001b[0m\u001b[0;34m,\u001b[0m \u001b[0;34m**\u001b[0m\u001b[0mk\u001b[0m\u001b[0;34m)\u001b[0m\u001b[0;34m\u001b[0m\u001b[0;34m\u001b[0m\u001b[0m\n\u001b[0m\u001b[1;32m    189\u001b[0m \u001b[0;34m\u001b[0m\u001b[0m\n\u001b[1;32m    190\u001b[0m         \u001b[0;32mif\u001b[0m \u001b[0mcallable\u001b[0m\u001b[0;34m(\u001b[0m\u001b[0marg\u001b[0m\u001b[0;34m)\u001b[0m\u001b[0;34m:\u001b[0m\u001b[0;34m\u001b[0m\u001b[0;34m\u001b[0m\u001b[0m\n",
            "\u001b[0;32m/usr/local/lib/python3.7/dist-packages/IPython/core/magics/execution.py\u001b[0m in \u001b[0;36mtime\u001b[0;34m(self, line, cell, local_ns)\u001b[0m\n\u001b[1;32m   1191\u001b[0m         \u001b[0;32melse\u001b[0m\u001b[0;34m:\u001b[0m\u001b[0;34m\u001b[0m\u001b[0;34m\u001b[0m\u001b[0m\n\u001b[1;32m   1192\u001b[0m             \u001b[0mst\u001b[0m \u001b[0;34m=\u001b[0m \u001b[0mclock2\u001b[0m\u001b[0;34m(\u001b[0m\u001b[0;34m)\u001b[0m\u001b[0;34m\u001b[0m\u001b[0;34m\u001b[0m\u001b[0m\n\u001b[0;32m-> 1193\u001b[0;31m             \u001b[0mexec\u001b[0m\u001b[0;34m(\u001b[0m\u001b[0mcode\u001b[0m\u001b[0;34m,\u001b[0m \u001b[0mglob\u001b[0m\u001b[0;34m,\u001b[0m \u001b[0mlocal_ns\u001b[0m\u001b[0;34m)\u001b[0m\u001b[0;34m\u001b[0m\u001b[0;34m\u001b[0m\u001b[0m\n\u001b[0m\u001b[1;32m   1194\u001b[0m             \u001b[0mend\u001b[0m \u001b[0;34m=\u001b[0m \u001b[0mclock2\u001b[0m\u001b[0;34m(\u001b[0m\u001b[0;34m)\u001b[0m\u001b[0;34m\u001b[0m\u001b[0;34m\u001b[0m\u001b[0m\n\u001b[1;32m   1195\u001b[0m             \u001b[0mout\u001b[0m \u001b[0;34m=\u001b[0m \u001b[0;32mNone\u001b[0m\u001b[0;34m\u001b[0m\u001b[0;34m\u001b[0m\u001b[0m\n",
            "\u001b[0;32m<timed exec>\u001b[0m in \u001b[0;36m<module>\u001b[0;34m()\u001b[0m\n",
            "\u001b[0;31mNameError\u001b[0m: name 'x_train' is not defined"
          ]
        }
      ]
    },
    {
      "cell_type": "code",
      "metadata": {
        "colab": {
          "base_uri": "https://localhost:8080/",
          "height": 235
        },
        "id": "SoSMHLM5DQmQ",
        "outputId": "94dd34ac-3cb9-435d-b6f5-ccfbd5c9cb02"
      },
      "source": [
        "sequence_length = train_df.shape[1]\n",
        "filter_sizes = [3,4]\n",
        "num_filters = 100\n",
        "drop = 0.4\n",
        "\n",
        "inputs = Input(shape=(sequence_length,))\n",
        "embedding = embedding_layer(inputs)\n",
        "reshape = Reshape((sequence_length,EMBEDDING_DIM,1))(embedding)\n",
        "\n",
        "conv_0 = Conv2D(num_filters, (filter_sizes[0], EMBEDDING_DIM),activation='relu',kernel_regularizer=regularizers.l2(0.01))(reshape)\n",
        "conv_1 = Conv2D(num_filters, (filter_sizes[1], EMBEDDING_DIM),activation='relu',kernel_regularizer=regularizers.l2(0.01))(reshape)\n",
        "\n",
        "maxpool_0 = MaxPooling2D((sequence_length - filter_sizes[0] + 1, 1), strides=(1,1))(conv_0)\n",
        "maxpool_1 = MaxPooling2D((sequence_length - filter_sizes[1] + 1, 1), strides=(1,1))(conv_1)\n",
        "\n",
        "merged_tensor = concatenate([maxpool_0, maxpool_1], axis=1)\n",
        "flatten = Flatten()(merged_tensor)\n",
        "reshape = Reshape((2*num_filters,))(flatten)\n",
        "dropout = Dropout(drop)(flatten)\n",
        "conc = Dense(40)(dropout)\n",
        "output = Dense(units=6, activation='sigmoid',kernel_regularizer=regularizers.l2(0.01))(conc)\n",
        "\n",
        "# this creates a model that includes\n",
        "model = Model(inputs, output)"
      ],
      "execution_count": null,
      "outputs": [
        {
          "output_type": "error",
          "ename": "NameError",
          "evalue": "ignored",
          "traceback": [
            "\u001b[0;31m---------------------------------------------------------------------------\u001b[0m",
            "\u001b[0;31mNameError\u001b[0m                                 Traceback (most recent call last)",
            "\u001b[0;32m<ipython-input-69-f1d903f3d074>\u001b[0m in \u001b[0;36m<module>\u001b[0;34m()\u001b[0m\n\u001b[1;32m      4\u001b[0m \u001b[0mdrop\u001b[0m \u001b[0;34m=\u001b[0m \u001b[0;36m0.4\u001b[0m\u001b[0;34m\u001b[0m\u001b[0;34m\u001b[0m\u001b[0m\n\u001b[1;32m      5\u001b[0m \u001b[0;34m\u001b[0m\u001b[0m\n\u001b[0;32m----> 6\u001b[0;31m \u001b[0minputs\u001b[0m \u001b[0;34m=\u001b[0m \u001b[0mInput\u001b[0m\u001b[0;34m(\u001b[0m\u001b[0mshape\u001b[0m\u001b[0;34m=\u001b[0m\u001b[0;34m(\u001b[0m\u001b[0msequence_length\u001b[0m\u001b[0;34m,\u001b[0m\u001b[0;34m)\u001b[0m\u001b[0;34m)\u001b[0m\u001b[0;34m\u001b[0m\u001b[0;34m\u001b[0m\u001b[0m\n\u001b[0m\u001b[1;32m      7\u001b[0m \u001b[0membedding\u001b[0m \u001b[0;34m=\u001b[0m \u001b[0membedding_layer\u001b[0m\u001b[0;34m(\u001b[0m\u001b[0minputs\u001b[0m\u001b[0;34m)\u001b[0m\u001b[0;34m\u001b[0m\u001b[0;34m\u001b[0m\u001b[0m\n\u001b[1;32m      8\u001b[0m \u001b[0mreshape\u001b[0m \u001b[0;34m=\u001b[0m \u001b[0mReshape\u001b[0m\u001b[0;34m(\u001b[0m\u001b[0;34m(\u001b[0m\u001b[0msequence_length\u001b[0m\u001b[0;34m,\u001b[0m\u001b[0mEMBEDDING_DIM\u001b[0m\u001b[0;34m,\u001b[0m\u001b[0;36m1\u001b[0m\u001b[0;34m)\u001b[0m\u001b[0;34m)\u001b[0m\u001b[0;34m(\u001b[0m\u001b[0membedding\u001b[0m\u001b[0;34m)\u001b[0m\u001b[0;34m\u001b[0m\u001b[0;34m\u001b[0m\u001b[0m\n",
            "\u001b[0;31mNameError\u001b[0m: name 'Input' is not defined"
          ]
        }
      ]
    },
    {
      "cell_type": "code",
      "metadata": {
        "colab": {
          "base_uri": "https://localhost:8080/",
          "height": 229
        },
        "id": "P2YmHAeyDZ5K",
        "outputId": "1f007077-a88e-4aa1-cec6-73965f579e97"
      },
      "source": [
        "opt = Adam(lr=1e-3)\n",
        "model.compile(loss='categorical_crossentropy',optimizer=opt)\n",
        "\n",
        "# Fitting Model to the data\n",
        "callbacks = [EarlyStopping(monitor='val_loss')]\n",
        "hist_adam = model.fit(X_train, y_train, batch_size=1000, epochs=20, verbose=2, validation_data=(X_val, y_val),\n",
        "         callbacks=callbacks)"
      ],
      "execution_count": null,
      "outputs": [
        {
          "output_type": "error",
          "ename": "NameError",
          "evalue": "ignored",
          "traceback": [
            "\u001b[0;31m---------------------------------------------------------------------------\u001b[0m",
            "\u001b[0;31mNameError\u001b[0m                                 Traceback (most recent call last)",
            "\u001b[0;32m<ipython-input-38-4d741e8a15e6>\u001b[0m in \u001b[0;36m<module>\u001b[0;34m()\u001b[0m\n\u001b[0;32m----> 1\u001b[0;31m \u001b[0mopt\u001b[0m \u001b[0;34m=\u001b[0m \u001b[0mAdam\u001b[0m\u001b[0;34m(\u001b[0m\u001b[0mlr\u001b[0m\u001b[0;34m=\u001b[0m\u001b[0;36m1e-3\u001b[0m\u001b[0;34m)\u001b[0m\u001b[0;34m\u001b[0m\u001b[0;34m\u001b[0m\u001b[0m\n\u001b[0m\u001b[1;32m      2\u001b[0m \u001b[0mmodel\u001b[0m\u001b[0;34m.\u001b[0m\u001b[0mcompile\u001b[0m\u001b[0;34m(\u001b[0m\u001b[0mloss\u001b[0m\u001b[0;34m=\u001b[0m\u001b[0;34m'categorical_crossentropy'\u001b[0m\u001b[0;34m,\u001b[0m\u001b[0moptimizer\u001b[0m\u001b[0;34m=\u001b[0m\u001b[0mopt\u001b[0m\u001b[0;34m)\u001b[0m\u001b[0;34m\u001b[0m\u001b[0;34m\u001b[0m\u001b[0m\n\u001b[1;32m      3\u001b[0m \u001b[0;34m\u001b[0m\u001b[0m\n\u001b[1;32m      4\u001b[0m \u001b[0;31m# Fitting Model to the data\u001b[0m\u001b[0;34m\u001b[0m\u001b[0;34m\u001b[0m\u001b[0;34m\u001b[0m\u001b[0m\n\u001b[1;32m      5\u001b[0m \u001b[0mcallbacks\u001b[0m \u001b[0;34m=\u001b[0m \u001b[0;34m[\u001b[0m\u001b[0mEarlyStopping\u001b[0m\u001b[0;34m(\u001b[0m\u001b[0mmonitor\u001b[0m\u001b[0;34m=\u001b[0m\u001b[0;34m'val_loss'\u001b[0m\u001b[0;34m)\u001b[0m\u001b[0;34m]\u001b[0m\u001b[0;34m\u001b[0m\u001b[0;34m\u001b[0m\u001b[0m\n",
            "\u001b[0;31mNameError\u001b[0m: name 'Adam' is not defined"
          ]
        }
      ]
    },
    {
      "cell_type": "code",
      "metadata": {
        "colab": {
          "base_uri": "https://localhost:8080/",
          "height": 524
        },
        "id": "wf3TmHqwDb1v",
        "outputId": "9cccf7fe-c263-4dbb-c01a-beea0b110fd3"
      },
      "source": [
        "plt.suptitle('Optimizer : Adam', fontsize=10)\n",
        "plt.ylabel('Loss', fontsize=16)\n",
        "plt.xlabel('Epoch', fontsize=14)\n",
        "plt.plot(hist_adam.history['loss'], color='b', label='Training Loss')\n",
        "plt.plot(hist_adam.history['val_loss'], color='r', label='Validation Loss')\n",
        "plt.legend(loc='upper right')"
      ],
      "execution_count": null,
      "outputs": [
        {
          "output_type": "error",
          "ename": "NameError",
          "evalue": "ignored",
          "traceback": [
            "\u001b[0;31m---------------------------------------------------------------------------\u001b[0m",
            "\u001b[0;31mNameError\u001b[0m                                 Traceback (most recent call last)",
            "\u001b[0;32m<ipython-input-39-f1cdbf9624a3>\u001b[0m in \u001b[0;36m<module>\u001b[0;34m()\u001b[0m\n\u001b[1;32m      2\u001b[0m \u001b[0mplt\u001b[0m\u001b[0;34m.\u001b[0m\u001b[0mylabel\u001b[0m\u001b[0;34m(\u001b[0m\u001b[0;34m'Loss'\u001b[0m\u001b[0;34m,\u001b[0m \u001b[0mfontsize\u001b[0m\u001b[0;34m=\u001b[0m\u001b[0;36m16\u001b[0m\u001b[0;34m)\u001b[0m\u001b[0;34m\u001b[0m\u001b[0;34m\u001b[0m\u001b[0m\n\u001b[1;32m      3\u001b[0m \u001b[0mplt\u001b[0m\u001b[0;34m.\u001b[0m\u001b[0mxlabel\u001b[0m\u001b[0;34m(\u001b[0m\u001b[0;34m'Epoch'\u001b[0m\u001b[0;34m,\u001b[0m \u001b[0mfontsize\u001b[0m\u001b[0;34m=\u001b[0m\u001b[0;36m14\u001b[0m\u001b[0;34m)\u001b[0m\u001b[0;34m\u001b[0m\u001b[0;34m\u001b[0m\u001b[0m\n\u001b[0;32m----> 4\u001b[0;31m \u001b[0mplt\u001b[0m\u001b[0;34m.\u001b[0m\u001b[0mplot\u001b[0m\u001b[0;34m(\u001b[0m\u001b[0mhist_adam\u001b[0m\u001b[0;34m.\u001b[0m\u001b[0mhistory\u001b[0m\u001b[0;34m[\u001b[0m\u001b[0;34m'loss'\u001b[0m\u001b[0;34m]\u001b[0m\u001b[0;34m,\u001b[0m \u001b[0mcolor\u001b[0m\u001b[0;34m=\u001b[0m\u001b[0;34m'b'\u001b[0m\u001b[0;34m,\u001b[0m \u001b[0mlabel\u001b[0m\u001b[0;34m=\u001b[0m\u001b[0;34m'Training Loss'\u001b[0m\u001b[0;34m)\u001b[0m\u001b[0;34m\u001b[0m\u001b[0;34m\u001b[0m\u001b[0m\n\u001b[0m\u001b[1;32m      5\u001b[0m \u001b[0mplt\u001b[0m\u001b[0;34m.\u001b[0m\u001b[0mplot\u001b[0m\u001b[0;34m(\u001b[0m\u001b[0mhist_adam\u001b[0m\u001b[0;34m.\u001b[0m\u001b[0mhistory\u001b[0m\u001b[0;34m[\u001b[0m\u001b[0;34m'val_loss'\u001b[0m\u001b[0;34m]\u001b[0m\u001b[0;34m,\u001b[0m \u001b[0mcolor\u001b[0m\u001b[0;34m=\u001b[0m\u001b[0;34m'r'\u001b[0m\u001b[0;34m,\u001b[0m \u001b[0mlabel\u001b[0m\u001b[0;34m=\u001b[0m\u001b[0;34m'Validation Loss'\u001b[0m\u001b[0;34m)\u001b[0m\u001b[0;34m\u001b[0m\u001b[0;34m\u001b[0m\u001b[0m\n\u001b[1;32m      6\u001b[0m \u001b[0mplt\u001b[0m\u001b[0;34m.\u001b[0m\u001b[0mlegend\u001b[0m\u001b[0;34m(\u001b[0m\u001b[0mloc\u001b[0m\u001b[0;34m=\u001b[0m\u001b[0;34m'upper right'\u001b[0m\u001b[0;34m)\u001b[0m\u001b[0;34m\u001b[0m\u001b[0;34m\u001b[0m\u001b[0m\n",
            "\u001b[0;31mNameError\u001b[0m: name 'hist_adam' is not defined"
          ]
        },
        {
          "output_type": "display_data",
          "data": {
            "image/png": "[encoded data removed]",
            "text/plain": [
              "<Figure size 432x288 with 1 Axes>"
            ]
          },
          "metadata": {
            "tags": [],
            "needs_background": "light"
          }
        }
      ]
    },
    {
      "cell_type": "code",
      "metadata": {
        "colab": {
          "base_uri": "https://localhost:8080/",
          "height": 178
        },
        "id": "GToNpSDTDgp0",
        "outputId": "290e1740-d40f-4a6e-f2a9-d8925ecdebd5"
      },
      "source": [
        "sequences_test=tokenizer.texts_to_sequences(X_test)\n",
        "X_test2 = pad_sequences(sequences_test,maxlen=X_train.shape[1])"
      ],
      "execution_count": null,
      "outputs": [
        {
          "output_type": "error",
          "ename": "NameError",
          "evalue": "ignored",
          "traceback": [
            "\u001b[0;31m---------------------------------------------------------------------------\u001b[0m",
            "\u001b[0;31mNameError\u001b[0m                                 Traceback (most recent call last)",
            "\u001b[0;32m<ipython-input-40-5a86b91c7a92>\u001b[0m in \u001b[0;36m<module>\u001b[0;34m()\u001b[0m\n\u001b[0;32m----> 1\u001b[0;31m \u001b[0msequences_test\u001b[0m\u001b[0;34m=\u001b[0m\u001b[0mtokenizer\u001b[0m\u001b[0;34m.\u001b[0m\u001b[0mtexts_to_sequences\u001b[0m\u001b[0;34m(\u001b[0m\u001b[0mX_test\u001b[0m\u001b[0;34m)\u001b[0m\u001b[0;34m\u001b[0m\u001b[0;34m\u001b[0m\u001b[0m\n\u001b[0m\u001b[1;32m      2\u001b[0m \u001b[0mX_test2\u001b[0m \u001b[0;34m=\u001b[0m \u001b[0mpad_sequences\u001b[0m\u001b[0;34m(\u001b[0m\u001b[0msequences_test\u001b[0m\u001b[0;34m,\u001b[0m\u001b[0mmaxlen\u001b[0m\u001b[0;34m=\u001b[0m\u001b[0mX_train\u001b[0m\u001b[0;34m.\u001b[0m\u001b[0mshape\u001b[0m\u001b[0;34m[\u001b[0m\u001b[0;36m1\u001b[0m\u001b[0;34m]\u001b[0m\u001b[0;34m)\u001b[0m\u001b[0;34m\u001b[0m\u001b[0;34m\u001b[0m\u001b[0m\n",
            "\u001b[0;31mNameError\u001b[0m: name 'tokenizer' is not defined"
          ]
        }
      ]
    },
    {
      "cell_type": "code",
      "metadata": {
        "colab": {
          "base_uri": "https://localhost:8080/",
          "height": 229
        },
        "id": "aQNElTNSDuu2",
        "outputId": "8fa9d376-25df-4506-f8ad-b7a4a2b17b23"
      },
      "source": [
        "col = ['toxic', 'severe_toxic', 'obscene', 'threat','insult', 'identity_hate']\n",
        "\n",
        "# Predict on train, val and test datasets\n",
        "pred_train = model.predict(X_train)\n",
        "pred_test = model.predict(X_test2)\n",
        "pred_val = model.predict(X_val)\n",
        "\n",
        "# Emply array to collect AUC scores\n",
        "AUC = np.zeros((3,6))\n",
        "AUC\n"
      ],
      "execution_count": null,
      "outputs": [
        {
          "output_type": "error",
          "ename": "NameError",
          "evalue": "ignored",
          "traceback": [
            "\u001b[0;31m---------------------------------------------------------------------------\u001b[0m",
            "\u001b[0;31mNameError\u001b[0m                                 Traceback (most recent call last)",
            "\u001b[0;32m<ipython-input-41-eeb0ab5f3b3f>\u001b[0m in \u001b[0;36m<module>\u001b[0;34m()\u001b[0m\n\u001b[1;32m      2\u001b[0m \u001b[0;34m\u001b[0m\u001b[0m\n\u001b[1;32m      3\u001b[0m \u001b[0;31m# Predict on train, val and test datasets\u001b[0m\u001b[0;34m\u001b[0m\u001b[0;34m\u001b[0m\u001b[0;34m\u001b[0m\u001b[0m\n\u001b[0;32m----> 4\u001b[0;31m \u001b[0mpred_train\u001b[0m \u001b[0;34m=\u001b[0m \u001b[0mmodel\u001b[0m\u001b[0;34m.\u001b[0m\u001b[0mpredict\u001b[0m\u001b[0;34m(\u001b[0m\u001b[0mX_train\u001b[0m\u001b[0;34m)\u001b[0m\u001b[0;34m\u001b[0m\u001b[0;34m\u001b[0m\u001b[0m\n\u001b[0m\u001b[1;32m      5\u001b[0m \u001b[0mpred_test\u001b[0m \u001b[0;34m=\u001b[0m \u001b[0mmodel\u001b[0m\u001b[0;34m.\u001b[0m\u001b[0mpredict\u001b[0m\u001b[0;34m(\u001b[0m\u001b[0mX_test2\u001b[0m\u001b[0;34m)\u001b[0m\u001b[0;34m\u001b[0m\u001b[0;34m\u001b[0m\u001b[0m\n\u001b[1;32m      6\u001b[0m \u001b[0mpred_val\u001b[0m \u001b[0;34m=\u001b[0m \u001b[0mmodel\u001b[0m\u001b[0;34m.\u001b[0m\u001b[0mpredict\u001b[0m\u001b[0;34m(\u001b[0m\u001b[0mX_val\u001b[0m\u001b[0;34m)\u001b[0m\u001b[0;34m\u001b[0m\u001b[0;34m\u001b[0m\u001b[0m\n",
            "\u001b[0;31mNameError\u001b[0m: name 'model' is not defined"
          ]
        }
      ]
    },
    {
      "cell_type": "code",
      "metadata": {
        "colab": {
          "base_uri": "https://localhost:8080/",
          "height": 229
        },
        "id": "yglZi28SD0Cc",
        "outputId": "1e1d8115-e373-4665-f058-d6b97d182062"
      },
      "source": [
        "from sklearn import metrics\n",
        "for i,x in enumerate(col):\n",
        "    auc = np.array([metrics.roc_auc_score(y_train[:,i], pred_train[:,i]),\n",
        "                    metrics.roc_auc_score(y_val[:,i], pred_val[:,i]),\n",
        "                    metrics.roc_auc_score(y_test[x], pred_test[:,i])])\n",
        "    print(x,\"Train AUC:\",auc[0],\", Val AUC:\",auc[1],\", Test AUC:\",auc[2])\n",
        "    AUC[:,i] = auc\n",
        "    \n",
        "avg_auc = AUC.mean(axis=1)\n",
        "print(\"Average Train AUC:\",avg_auc[0],\", Average Val AUC:\",avg_auc[1],\", Average Test AUC:\",avg_auc[2])"
      ],
      "execution_count": null,
      "outputs": [
        {
          "output_type": "error",
          "ename": "NameError",
          "evalue": "ignored",
          "traceback": [
            "\u001b[0;31m---------------------------------------------------------------------------\u001b[0m",
            "\u001b[0;31mNameError\u001b[0m                                 Traceback (most recent call last)",
            "\u001b[0;32m<ipython-input-42-28adee44b7fe>\u001b[0m in \u001b[0;36m<module>\u001b[0;34m()\u001b[0m\n\u001b[1;32m      1\u001b[0m \u001b[0;32mfrom\u001b[0m \u001b[0msklearn\u001b[0m \u001b[0;32mimport\u001b[0m \u001b[0mmetrics\u001b[0m\u001b[0;34m\u001b[0m\u001b[0;34m\u001b[0m\u001b[0m\n\u001b[1;32m      2\u001b[0m \u001b[0;32mfor\u001b[0m \u001b[0mi\u001b[0m\u001b[0;34m,\u001b[0m\u001b[0mx\u001b[0m \u001b[0;32min\u001b[0m \u001b[0menumerate\u001b[0m\u001b[0;34m(\u001b[0m\u001b[0mcol\u001b[0m\u001b[0;34m)\u001b[0m\u001b[0;34m:\u001b[0m\u001b[0;34m\u001b[0m\u001b[0;34m\u001b[0m\u001b[0m\n\u001b[0;32m----> 3\u001b[0;31m     auc = np.array([metrics.roc_auc_score(y_train[:,i], pred_train[:,i]),\n\u001b[0m\u001b[1;32m      4\u001b[0m                     \u001b[0mmetrics\u001b[0m\u001b[0;34m.\u001b[0m\u001b[0mroc_auc_score\u001b[0m\u001b[0;34m(\u001b[0m\u001b[0my_val\u001b[0m\u001b[0;34m[\u001b[0m\u001b[0;34m:\u001b[0m\u001b[0;34m,\u001b[0m\u001b[0mi\u001b[0m\u001b[0;34m]\u001b[0m\u001b[0;34m,\u001b[0m \u001b[0mpred_val\u001b[0m\u001b[0;34m[\u001b[0m\u001b[0;34m:\u001b[0m\u001b[0;34m,\u001b[0m\u001b[0mi\u001b[0m\u001b[0;34m]\u001b[0m\u001b[0;34m)\u001b[0m\u001b[0;34m,\u001b[0m\u001b[0;34m\u001b[0m\u001b[0;34m\u001b[0m\u001b[0m\n\u001b[1;32m      5\u001b[0m                     metrics.roc_auc_score(y_test[x], pred_test[:,i])])\n",
            "\u001b[0;31mNameError\u001b[0m: name 'y_train' is not defined"
          ]
        }
      ]
    },
    {
      "cell_type": "code",
      "metadata": {
        "id": "IGDRqcCQD2is"
      },
      "source": [
        ""
      ],
      "execution_count": null,
      "outputs": []
    }
  ]
}